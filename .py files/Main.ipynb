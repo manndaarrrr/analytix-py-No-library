{
  "nbformat": 4,
  "nbformat_minor": 0,
  "metadata": {
    "colab": {
      "provenance": []
    },
    "kernelspec": {
      "name": "python3",
      "display_name": "Python 3"
    },
    "language_info": {
      "name": "python"
    }
  },
  "cells": [
    {
      "cell_type": "code",
      "execution_count": null,
      "metadata": {
        "id": "r0o07g-mN2KQ"
      },
      "outputs": [],
      "source": [
        "from ui_mod import start_ui\n",
        "# Start the UI\n",
        "start_ui()"
      ]
    }
  ]
}